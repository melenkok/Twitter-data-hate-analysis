{
 "cells": [
  {
   "cell_type": "code",
   "execution_count": 5,
   "metadata": {},
   "outputs": [],
   "source": [
    "import tweepy\n",
    "from tweepy import OAuthHandler\n",
    "from tweepy import API\n",
    "from tweepy import Cursor\n",
    "from datetime import datetime, date, time, timedelta\n",
    "import csv\n",
    "\n",
    "consumer_key = \"[your_consumer_key]\"\n",
    "consumer_secret = \"[your_consumer_secret]\"\n",
    "access_key= \"[your_acces_key]\"\n",
    "access_secret = \"[your_access_secret]\"\n",
    "\n",
    "auth = tweepy.OAuthHandler(consumer_key, consumer_secret)\n",
    "auth.set_access_token(access_key, access_secret)\n",
    "auth_api = tweepy.API(auth)"
   ]
  },
  {
   "cell_type": "code",
   "execution_count": 6,
   "metadata": {},
   "outputs": [
    {
     "name": "stdout",
     "output_type": "stream",
     "text": [
      "Gathering Data please wait !!!\n",
      "writing complete check CSV file\n"
     ]
    }
   ],
   "source": [
    "# startDate = datetime.datetime(2019, 6, 1, 0, 0, 0)\n",
    "# endDate = datetime.datetime(2019, 6, 2, 0, 0, 0)\n",
    "\n",
    "csvFile = open('donald_trump.csv', 'a')\n",
    "csvWriter = csv.writer(csvFile)\n",
    "\n",
    "try:\n",
    "    print(\"Gathering Data please wait !!!\")\n",
    "    for tweet in tweepy.Cursor(auth_api.user_timeline, screen_name=\"realDonaldTrump\",exclude_replies=True, count = 10).items():\n",
    "        #if tweet.created_at <= endDate and tweet.created_at >= startDate:\n",
    "        csvWriter.writerow([tweet.text.encode(\"utf-8\"), tweet.created_at, tweet.user.screen_name, tweet.retweet_count, tweet.favorite_count])\n",
    "            #tweets.append([tweet.text.encode(\"utf-8\"), tweet.created_at, tweet.user.screen_name, tweet.retweet_count, tweet.favorite_count])\n",
    "\n",
    "except tweepy.TweepError as e:\n",
    "    print(e)\n",
    "    time.sleep(60)\n",
    "\n",
    "print(\"writing complete check CSV file\")"
   ]
  },
  {
   "cell_type": "code",
   "execution_count": null,
   "metadata": {},
   "outputs": [],
   "source": []
  }
 ],
 "metadata": {
  "kernelspec": {
   "display_name": "Python 3",
   "language": "python",
   "name": "python3"
  },
  "language_info": {
   "codemirror_mode": {
    "name": "ipython",
    "version": 3
   },
   "file_extension": ".py",
   "mimetype": "text/x-python",
   "name": "python",
   "nbconvert_exporter": "python",
   "pygments_lexer": "ipython3",
   "version": "3.7.5"
  }
 },
 "nbformat": 4,
 "nbformat_minor": 4
}
